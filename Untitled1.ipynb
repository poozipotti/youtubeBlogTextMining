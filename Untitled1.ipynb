{
 "cells": [
  {
   "cell_type": "code",
   "execution_count": 158,
   "metadata": {},
   "outputs": [],
   "source": [
    "import pandas as pd\n",
    "import numpy as np\n",
    "import matplotlib.pyplot as plt\n",
    "import os\n",
    "import HTMLParser\n",
    "from bs4 import BeautifulSoup\n",
    "import html2text\n",
    "import re\n",
    "from lxml import html\n",
    "import requests\n",
    "import string\n",
    "from datetime import datetime"
   ]
  },
  {
   "cell_type": "code",
   "execution_count": 159,
   "metadata": {},
   "outputs": [],
   "source": [
    "PATH = '/home/george/Projects/YoutubeTextMining/youtubeBlog/youtube.googleblog.com/'"
   ]
  },
  {
   "cell_type": "code",
   "execution_count": 161,
   "metadata": {},
   "outputs": [
    {
     "name": "stdout",
     "output_type": "stream",
     "text": [
      "2006\n",
      "01\n",
      "02\n",
      "03\n",
      "04\n",
      "05\n",
      "06\n",
      "07\n",
      "08\n",
      "09\n",
      "10\n",
      "11\n",
      "12\n",
      "2007\n",
      "01\n",
      "02\n",
      "03\n",
      "04\n",
      "05\n",
      "06\n",
      "07\n",
      "08\n",
      "09\n",
      "10\n",
      "11\n",
      "12\n",
      "2008\n",
      "01\n",
      "02\n",
      "03\n",
      "04\n",
      "05\n",
      "06\n",
      "07\n",
      "08\n",
      "09\n",
      "10\n",
      "11\n",
      "12\n",
      "2009\n",
      "01\n",
      "02\n",
      "03\n",
      "04\n",
      "05\n",
      "06\n",
      "07\n",
      "08\n",
      "09\n",
      "10\n",
      "11\n",
      "12\n",
      "2010\n",
      "01\n",
      "02\n",
      "03\n",
      "04\n",
      "05\n",
      "06\n",
      "07\n",
      "08\n",
      "09\n",
      "10\n",
      "11\n",
      "12\n",
      "2011\n",
      "01\n"
     ]
    },
    {
     "name": "stderr",
     "output_type": "stream",
     "text": [
      "No handlers could be found for logger \"bs4.dammit\"\n"
     ]
    },
    {
     "ename": "AttributeError",
     "evalue": "'NoneType' object has no attribute 'string'",
     "output_type": "error",
     "traceback": [
      "\u001b[0;31m---------------------------------------------------------------------------\u001b[0m",
      "\u001b[0;31mAttributeError\u001b[0m                            Traceback (most recent call last)",
      "\u001b[0;32m<ipython-input-161-74ce1c357758>\u001b[0m in \u001b[0;36m<module>\u001b[0;34m()\u001b[0m\n\u001b[1;32m     12\u001b[0m             \u001b[0mpage\u001b[0m \u001b[0;34m=\u001b[0m \u001b[0mopen\u001b[0m\u001b[0;34m(\u001b[0m\u001b[0mdirname\u001b[0m\u001b[0;34m+\u001b[0m\u001b[0mfn\u001b[0m\u001b[0;34m,\u001b[0m \u001b[0;34m'r'\u001b[0m\u001b[0;34m)\u001b[0m\u001b[0;34m\u001b[0m\u001b[0m\n\u001b[1;32m     13\u001b[0m             \u001b[0msoup\u001b[0m \u001b[0;34m=\u001b[0m \u001b[0mBeautifulSoup\u001b[0m\u001b[0;34m(\u001b[0m\u001b[0mpage\u001b[0m\u001b[0;34m,\u001b[0m \u001b[0;34m'html.parser'\u001b[0m\u001b[0;34m)\u001b[0m\u001b[0;34m\u001b[0m\u001b[0m\n\u001b[0;32m---> 14\u001b[0;31m             \u001b[0mdate\u001b[0m \u001b[0;34m=\u001b[0m \u001b[0msoup\u001b[0m\u001b[0;34m.\u001b[0m\u001b[0mfind\u001b[0m\u001b[0;34m(\u001b[0m\u001b[0;34m'span'\u001b[0m\u001b[0;34m,\u001b[0m \u001b[0mclass_\u001b[0m\u001b[0;34m=\u001b[0m\u001b[0;34m'publishdate'\u001b[0m\u001b[0;34m)\u001b[0m\u001b[0;34m.\u001b[0m\u001b[0mstring\u001b[0m\u001b[0;34m\u001b[0m\u001b[0m\n\u001b[0m\u001b[1;32m     15\u001b[0m             \u001b[0mdate\u001b[0m \u001b[0;34m=\u001b[0m \u001b[0mdatetime\u001b[0m\u001b[0;34m.\u001b[0m\u001b[0mstrptime\u001b[0m\u001b[0;34m(\u001b[0m\u001b[0mdate\u001b[0m\u001b[0;34m[\u001b[0m\u001b[0;36m1\u001b[0m\u001b[0;34m:\u001b[0m\u001b[0;34m-\u001b[0m\u001b[0;36m1\u001b[0m\u001b[0;34m]\u001b[0m\u001b[0;34m,\u001b[0m \u001b[0;34m'%A, %B %d, %Y'\u001b[0m\u001b[0;34m)\u001b[0m\u001b[0;34m\u001b[0m\u001b[0m\n\u001b[1;32m     16\u001b[0m             \u001b[0mcontent\u001b[0m \u001b[0;34m=\u001b[0m \u001b[0mscrubTags\u001b[0m\u001b[0;34m(\u001b[0m\u001b[0mstr\u001b[0m\u001b[0;34m(\u001b[0m\u001b[0msoup\u001b[0m\u001b[0;34m.\u001b[0m\u001b[0mfind\u001b[0m\u001b[0;34m(\u001b[0m\u001b[0;34m'div'\u001b[0m\u001b[0;34m,\u001b[0m \u001b[0mclass_\u001b[0m\u001b[0;34m=\u001b[0m\u001b[0;34m'post-content'\u001b[0m\u001b[0;34m)\u001b[0m\u001b[0;34m)\u001b[0m\u001b[0;34m)\u001b[0m\u001b[0;34m\u001b[0m\u001b[0m\n",
      "\u001b[0;31mAttributeError\u001b[0m: 'NoneType' object has no attribute 'string'"
     ]
    }
   ],
   "source": [
    "months = ['01', '02', '03', '04', '05', '06', '07', '08', '09', '10', '11', '12']\n",
    "blog_data = {}\n",
    "for year in range(2006, 2018):\n",
    "    print(year)\n",
    "    year = str(year)+'/'\n",
    "    for month in months:\n",
    "        print(month)\n",
    "        dirname = PATH+year+month+'/'\n",
    "        for fn in os.listdir(dirname):\n",
    "            if('?' in fn):\n",
    "                continue\n",
    "            page = open(dirname+fn, 'r')\n",
    "            soup = BeautifulSoup(page, 'html.parser')\n",
    "            date = soup.find('span', class_='publishdate').string\n",
    "            date = datetime.strptime(date[1:-1], '%A, %B %d, %Y')\n",
    "            content = scrubTags(str(soup.find('div', class_='post-content')))\n",
    "            blog_data[date] = [content]\n",
    "            \n",
    "df = pd.DataFrame.from_dict(blog_data, orient='index')\n",
    "df.to_csv('blog_data.csv')\n"
   ]
  },
  {
   "cell_type": "code",
   "execution_count": 155,
   "metadata": {},
   "outputs": [],
   "source": [
    "df = pd.DataFrame.from_dict(blog_data, orient='index')"
   ]
  },
  {
   "cell_type": "code",
   "execution_count": 156,
   "metadata": {},
   "outputs": [
    {
     "data": {
      "text/html": [
       "<div>\n",
       "<style scoped>\n",
       "    .dataframe tbody tr th:only-of-type {\n",
       "        vertical-align: middle;\n",
       "    }\n",
       "\n",
       "    .dataframe tbody tr th {\n",
       "        vertical-align: top;\n",
       "    }\n",
       "\n",
       "    .dataframe thead th {\n",
       "        text-align: right;\n",
       "    }\n",
       "</style>\n",
       "<table border=\"1\" class=\"dataframe\">\n",
       "  <thead>\n",
       "    <tr style=\"text-align: right;\">\n",
       "      <th></th>\n",
       "      <th>0</th>\n",
       "    </tr>\n",
       "  </thead>\n",
       "  <tbody>\n",
       "    <tr>\n",
       "      <th>2006-02-27</th>\n",
       "      <td>Hello members You ...</td>\n",
       "    </tr>\n",
       "    <tr>\n",
       "      <th>2006-01-09</th>\n",
       "      <td>Happy New Years Tu...</td>\n",
       "    </tr>\n",
       "    <tr>\n",
       "      <th>2006-02-16</th>\n",
       "      <td>Hi Tubers  NBC rec...</td>\n",
       "    </tr>\n",
       "    <tr>\n",
       "      <th>2006-04-28</th>\n",
       "      <td>Youll notice lots ...</td>\n",
       "    </tr>\n",
       "    <tr>\n",
       "      <th>2006-05-04</th>\n",
       "      <td>By now many of you...</td>\n",
       "    </tr>\n",
       "  </tbody>\n",
       "</table>\n",
       "</div>"
      ],
      "text/plain": [
       "                                                            0\n",
       "2006-02-27                              Hello members You ...\n",
       "2006-01-09                              Happy New Years Tu...\n",
       "2006-02-16                              Hi Tubers  NBC rec...\n",
       "2006-04-28                              Youll notice lots ...\n",
       "2006-05-04                              By now many of you..."
      ]
     },
     "execution_count": 156,
     "metadata": {},
     "output_type": "execute_result"
    }
   ],
   "source": [
    "df.head()"
   ]
  },
  {
   "cell_type": "code",
   "execution_count": 87,
   "metadata": {},
   "outputs": [],
   "source": [
    "data = (soup.find('div', class_='post-content'))"
   ]
  },
  {
   "cell_type": "code",
   "execution_count": 124,
   "metadata": {},
   "outputs": [],
   "source": [
    "date = soup.find('span', class_='publishdate').string"
   ]
  },
  {
   "cell_type": "code",
   "execution_count": 133,
   "metadata": {},
   "outputs": [
    {
     "data": {
      "text/plain": [
       "u'\\nThursday, June 4, 2009\\n'"
      ]
     },
     "execution_count": 133,
     "metadata": {},
     "output_type": "execute_result"
    }
   ],
   "source": [
    "date"
   ]
  },
  {
   "cell_type": "code",
   "execution_count": 137,
   "metadata": {},
   "outputs": [
    {
     "data": {
      "text/plain": [
       "datetime.datetime(2009, 6, 4, 0, 0)"
      ]
     },
     "execution_count": 137,
     "metadata": {},
     "output_type": "execute_result"
    }
   ],
   "source": [
    "datetime.strptime(date[1:-1], '%A, %B %d, %Y')"
   ]
  },
  {
   "cell_type": "code",
   "execution_count": 105,
   "metadata": {},
   "outputs": [],
   "source": [
    "tree = html.fromstring(str(data))"
   ]
  },
  {
   "cell_type": "code",
   "execution_count": 109,
   "metadata": {},
   "outputs": [
    {
     "data": {
      "text/plain": [
       "<div class=\"post-content\" itemprop=\"articleBody\">\\n<script type=\"text/template\">\\n                          From <a href=\"https://youtu.be/BXmqiESZYp0?t=1144\">conventions</a> to <a href=\"https://www.youtube.com/watch?v=smkyorC5qwc\">debates</a> to <a href=\"https://www.youtube.com/watch?v=-TTiDlK4vS8\">election day</a>, millions of you came to YouTube over the past year to stay informed and engage in a conversation on the 2016 U.S. election.<br />\\n<br />\\nThe results are in and in one week President-elect Trump will take the oath of office. As in 2013, YouTube is live streaming inauguration coverage and this year you can tune into live streams from more news organizations than ever before.<br />\\n<br />\\nHead to YouTube on Friday, January 20, and choose a news channel to follow the day-long events:<br />\\n<br />\\n<ul>\\n<li><a href=\"//youtube.com/nbcnews\">NBC News</a></li>\\n<li><a href=\"//youtube.com/cbsnews\">CBS News</a></li>\\n<li><a href=\"https://www.youtube.com/channel/UCRwA1NUcUnwsly35ikGhp0A\">Telemundo</a></li>\\n<li><a href=\"https://www.youtube.com/user/UnivisionNoticias\">Univision</a></li>\\n<li><a href=\"//youtube.com/bloombergpolitics\">Bloomberg Politics</a></li>\\n<li><a href=\"//youtube.com/usatoday\">USA Today</a></li>\\n<li><a href=\"//youtube.com/washingtonpost\">Washington Post</a></li>\\n</ul>\\n<br />\\nYou'll also be able to feel what it's like to be in the center of the action - look out for special coverage from some of the channels above in 360 degrees.<br />\\n<br />\\nStay up to speed on U.S. political news, including live coverage, by heading to youtube.com/news.<br />\\n<br />\\n<i>Brandon Feldman, YouTube News and Politics, recently watched &#8221;<a href=\"https://www.youtube.com/playlist?list=PLwBoQZPcMB02iHwBMlo56tjFzJa2sNBF7\">Presidential History</a>.&#8221;</i>\\n<span itemprop='author' itemscope='itemscope' itemtype='http://schema.org/Person'>\\n  <meta content='https://plus.google.com/116899029375914044550' itemprop='url'/>\\n</span>\\n                        </script>\\n<noscript>\\nFrom <a href=\"https://youtu.be/BXmqiESZYp0?t=1144\">conventions</a> to <a href=\"https://www.youtube.com/watch?v=smkyorC5qwc\">debates</a> to <a href=\"https://www.youtube.com/watch?v=-TTiDlK4vS8\">election day</a>, millions of you came to YouTube over the past year to stay informed and engage in a conversation on the 2016 U.S. election.<br/>\\n<br/>\\nThe results are in and in one week President-elect Trump will take the oath of office. As in 2013, YouTube is live streaming inauguration coverage and this year you can tune into live streams from more news organizations than ever before.<br/>\\n<br/>\\nHead to YouTube on Friday, January 20, and choose a news channel to follow the day-long events:<br/>\\n<br/>\\n<ul>\\n<li><a href=\"//youtube.com/nbcnews\">NBC News</a></li>\\n<li><a href=\"//youtube.com/cbsnews\">CBS News</a></li>\\n<li><a href=\"https://www.youtube.com/channel/UCRwA1NUcUnwsly35ikGhp0A\">Telemundo</a></li>\\n<li><a href=\"https://www.youtube.com/user/UnivisionNoticias\">Univision</a></li>\\n<li><a href=\"//youtube.com/bloombergpolitics\">Bloomberg Politics</a></li>\\n<li><a href=\"//youtube.com/usatoday\">USA Today</a></li>\\n<li><a href=\"//youtube.com/washingtonpost\">Washington Post</a></li>\\n</ul>\\n<br/>\\nYou'll also be able to feel what it's like to be in the center of the action - look out for special coverage from some of the channels above in 360 degrees.<br/>\\n<br/>\\nStay up to speed on U.S. political news, including live coverage, by heading to youtube.com/news.<br/>\\n<br/>\\n<i>Brandon Feldman, YouTube News and Politics, recently watched \\u201d<a href=\"https://www.youtube.com/playlist?list=PLwBoQZPcMB02iHwBMlo56tjFzJa2sNBF7\">Presidential History</a>.\\u201d</i>\\n<span itemprop=\"author\" itemscope=\"itemscope\" itemtype=\"http://schema.org/Person\">\\n<meta content=\"https://plus.google.com/116899029375914044550\" itemprop=\"url\"/>\\n</span>\\n</noscript>\\n</div>"
      ]
     },
     "execution_count": 109,
     "metadata": {},
     "output_type": "execute_result"
    }
   ],
   "source": [
    "data"
   ]
  },
  {
   "cell_type": "code",
   "execution_count": 121,
   "metadata": {},
   "outputs": [],
   "source": [
    "\n",
    "def scrubTags(dirtyString):\n",
    "\ttag = \"<.*>\"\t\n",
    "\ttagRegex = re.compile(tag)\n",
    "\tcleanString = tagRegex.sub(\" \",dirtyString)\n",
    "\tcleanString = cleanString.replace(\"\\n\",\"\")\n",
    "\tcleanString = cleanString.translate(None,string.punctuation)\n",
    "\treturn cleanString"
   ]
  },
  {
   "cell_type": "code",
   "execution_count": 122,
   "metadata": {},
   "outputs": [
    {
     "data": {
      "text/plain": [
       "'                            From   The results are in and in one week Presidentelect Trump will take the oath of office As in 2013 YouTube is live streaming inauguration coverage and this year you can tune into live streams from more news organizations than ever before  Head to YouTube on Friday January 20 and choose a news channel to follow the daylong events            Youll also be able to feel what its like to be in the center of the action  look out for special coverage from some of the channels above in 360 degrees  Stay up to speed on US political news including live coverage by heading to youtubecomnews                                  From   The results are in and in one week Presidentelect Trump will take the oath of office As in 2013 YouTube is live streaming inauguration coverage and this year you can tune into live streams from more news organizations than ever before  Head to YouTube on Friday January 20 and choose a news channel to follow the daylong events            Youll also be able to feel what its like to be in the center of the action  look out for special coverage from some of the channels above in 360 degrees  Stay up to speed on US political news including live coverage by heading to youtubecomnews        '"
      ]
     },
     "execution_count": 122,
     "metadata": {},
     "output_type": "execute_result"
    }
   ],
   "source": [
    "scrubTags(str(data))"
   ]
  },
  {
   "cell_type": "code",
   "execution_count": null,
   "metadata": {},
   "outputs": [],
   "source": []
  }
 ],
 "metadata": {
  "kernelspec": {
   "display_name": "Python 3",
   "language": "python",
   "name": "python3"
  },
  "language_info": {
   "codemirror_mode": {
    "name": "ipython",
    "version": 2
   },
   "file_extension": ".py",
   "mimetype": "text/x-python",
   "name": "python",
   "nbconvert_exporter": "python",
   "pygments_lexer": "ipython2",
   "version": "2.7.15"
  }
 },
 "nbformat": 4,
 "nbformat_minor": 2
}
